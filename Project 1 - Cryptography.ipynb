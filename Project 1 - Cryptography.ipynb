{
 "cells": [
  {
   "cell_type": "markdown",
   "metadata": {},
   "source": [
    "# Cryptography"
   ]
  },
  {
   "cell_type": "code",
   "execution_count": 1,
   "metadata": {},
   "outputs": [
    {
     "name": "stdout",
     "output_type": "stream",
     "text": [
      "Requirement already satisfied: cryptography in c:\\users\\sai charan\\anaconda3\\lib\\site-packages (3.1.1)\n",
      "Requirement already satisfied: cffi!=1.11.3,>=1.8 in c:\\users\\sai charan\\anaconda3\\lib\\site-packages (from cryptography) (1.14.3)\n",
      "Requirement already satisfied: six>=1.4.1 in c:\\users\\sai charan\\appdata\\roaming\\python\\python38\\site-packages (from cryptography) (1.15.0)\n",
      "Requirement already satisfied: pycparser in c:\\users\\sai charan\\anaconda3\\lib\\site-packages (from cffi!=1.11.3,>=1.8->cryptography) (2.20)\n"
     ]
    }
   ],
   "source": [
    "!pip install cryptography"
   ]
  },
  {
   "cell_type": "code",
   "execution_count": 2,
   "metadata": {},
   "outputs": [],
   "source": [
    "from cryptography.fernet import Fernet"
   ]
  },
  {
   "cell_type": "code",
   "execution_count": 3,
   "metadata": {},
   "outputs": [],
   "source": [
    "def mypasskey():\n",
    "    key = Fernet.generate_key()\n",
    "    print(key)\n",
    "    abc = open(\"mykey.key\", \"wb\")\n",
    "    abc.write(key)\n",
    "    abc.close()"
   ]
  },
  {
   "cell_type": "code",
   "execution_count": 4,
   "metadata": {},
   "outputs": [
    {
     "name": "stdout",
     "output_type": "stream",
     "text": [
      "b'Hs7npHqY-2EpuY3COnyjsAJ9AhMKP7mBcrTBL2GI6Lc='\n"
     ]
    }
   ],
   "source": [
    "mypasskey()"
   ]
  },
  {
   "cell_type": "code",
   "execution_count": 7,
   "metadata": {},
   "outputs": [],
   "source": [
    "def getMyKey():\n",
    "    abc = open(\"mykey.key\",'rb')\n",
    "    return abc.read()"
   ]
  },
  {
   "cell_type": "code",
   "execution_count": 8,
   "metadata": {},
   "outputs": [
    {
     "data": {
      "text/plain": [
       "b'Hs7npHqY-2EpuY3COnyjsAJ9AhMKP7mBcrTBL2GI6Lc='"
      ]
     },
     "execution_count": 8,
     "metadata": {},
     "output_type": "execute_result"
    }
   ],
   "source": [
    "getMyKey()"
   ]
  },
  {
   "cell_type": "code",
   "execution_count": 15,
   "metadata": {},
   "outputs": [],
   "source": [
    "def encryptMessage(inputMessage):\n",
    "    key = getMyKey()\n",
    "    k = Fernet(key)\n",
    "    secureMessage = k.encrypt(inputMessage)\n",
    "    return secureMessage"
   ]
  },
  {
   "cell_type": "code",
   "execution_count": 16,
   "metadata": {},
   "outputs": [
    {
     "name": "stdout",
     "output_type": "stream",
     "text": [
      "Enter message you want to encrypt - hello\\\n"
     ]
    },
    {
     "data": {
      "text/plain": [
       "b'gAAAAABf3c_c9s9EwBVuEYQK9W_ECQ-l4OuKgji7biYVk2J-V5fpJsx9ZRCgIMSfPCkBa45TkKazV6HZD-IL0rr4ojpuuYnciA=='"
      ]
     },
     "execution_count": 16,
     "metadata": {},
     "output_type": "execute_result"
    }
   ],
   "source": [
    "message =bytes(input(\"Enter message you want to encrypt - \"),'utf-8' )\n",
    "encryptMessage(message)"
   ]
  },
  {
   "cell_type": "code",
   "execution_count": 17,
   "metadata": {},
   "outputs": [],
   "source": [
    "\n",
    "def decryptMessage(inputMessage):\n",
    "    key = getMyKey()\n",
    "    k = Fernet(key)\n",
    "    unsecureMessage = k.decrypt(inputMessage)\n",
    "    \n",
    "    return unsecureMessage.decode()"
   ]
  },
  {
   "cell_type": "code",
   "execution_count": null,
   "metadata": {},
   "outputs": [],
   "source": [
    "message = bytes(input(\"Enter the message you want to encrypt - \"), 'utf-8')\n",
    "decryptMessage(message)"
   ]
  }
 ],
 "metadata": {
  "kernelspec": {
   "display_name": "Python 3",
   "language": "python",
   "name": "python3"
  },
  "language_info": {
   "codemirror_mode": {
    "name": "ipython",
    "version": 3
   },
   "file_extension": ".py",
   "mimetype": "text/x-python",
   "name": "python",
   "nbconvert_exporter": "python",
   "pygments_lexer": "ipython3",
   "version": "3.8.5"
  }
 },
 "nbformat": 4,
 "nbformat_minor": 4
}
